{
  "nbformat": 4,
  "nbformat_minor": 0,
  "metadata": {
    "colab": {
      "provenance": []
    },
    "kernelspec": {
      "name": "python3",
      "display_name": "Python 3"
    },
    "language_info": {
      "name": "python"
    }
  },
  "cells": [
    {
      "cell_type": "code",
      "execution_count": 9,
      "metadata": {
        "colab": {
          "base_uri": "https://localhost:8080/",
          "height": 1000
        },
        "id": "SzG2pV8nCwm0",
        "outputId": "328f76cc-7072-4a97-8709-9d00a83bea58"
      },
      "outputs": [
        {
          "output_type": "stream",
          "name": "stdout",
          "text": [
            "\n",
            "5 primeiros registros:\n",
            "                  NOME  REGION-CENTROID-COL REGION-CENTROID-ROW  \\\n",
            "0  REGION-CENTROID-COL  REGION-CENTROID-ROW  REGION-PIXEL-COUNT   \n",
            "1            BRICKFACE                140.0               125.0   \n",
            "2            BRICKFACE                188.0               133.0   \n",
            "3            BRICKFACE                105.0               139.0   \n",
            "4            BRICKFACE                 34.0               137.0   \n",
            "\n",
            "     REGION-PIXEL-COUNT  SHORT-LINE-DENSITY-5 SHORT-LINE-DENSITY-2  \\\n",
            "0  SHORT-LINE-DENSITY-5  SHORT-LINE-DENSITY-2           VEDGE-MEAN   \n",
            "1                     9                   0.0                  0.0   \n",
            "2                     9                   0.0                  0.0   \n",
            "3                     9                   0.0                  0.0   \n",
            "4                     9                   0.0                  0.0   \n",
            "\n",
            "   VEDGE-MEAN     VEDGE-SD  HEDGE-MEAN        HEDGE-SD INTENSITY-MEAN  \\\n",
            "0    VEDGE-SD   HEDGE-MEAN    HEDGE-SD  INTENSITY-MEAN    RAWRED-MEAN   \n",
            "1   0.2777779   0.06296301  0.66666675      0.31111118       6.185185   \n",
            "2  0.33333334   0.26666674         0.5     0.077777736      6.6666665   \n",
            "3  0.27777782  0.107407436  0.83333325      0.52222216       6.111111   \n",
            "4   0.5000002   0.16666673    1.111111      0.47407418       5.851852   \n",
            "\n",
            "    RAWRED-MEAN   RAWBLUE-MEAN RAWGREEN-MEAN   EXRED-MEAN   EXBLUE-MEAN  \\\n",
            "0  RAWBLUE-MEAN  RAWGREEN-MEAN    EXRED-MEAN  EXBLUE-MEAN  EXGREEN-MEAN   \n",
            "1     7.3333335      7.6666665     3.5555556    3.4444444     4.4444447   \n",
            "2      8.333334      7.7777777     3.8888888          5.0     3.3333333   \n",
            "3     7.5555553      7.2222223     3.5555556    4.3333335     3.3333333   \n",
            "4     7.7777777      6.4444447     3.3333333    5.7777777     1.7777778   \n",
            "\n",
            "  EXGREEN-MEAN       VALUE-MEAN SATURATION-MEAN  HUE-MEAN  \n",
            "0   VALUE-MEAN  SATURATION-MEAN        HUE-MEAN       NaN  \n",
            "1    -7.888889        7.7777777       0.5456349 -1.121818  \n",
            "2    -8.333333         8.444445      0.53858024 -0.924817  \n",
            "3   -7.6666665        7.5555553       0.5326279 -0.965946  \n",
            "4   -7.5555553        7.7777777      0.57363313 -0.744272  \n",
            "\n",
            "Colunas do dataframe:\n",
            "Index(['NOME', 'REGION-CENTROID-COL', 'REGION-CENTROID-ROW',\n",
            "       'REGION-PIXEL-COUNT', 'SHORT-LINE-DENSITY-5', 'SHORT-LINE-DENSITY-2',\n",
            "       'VEDGE-MEAN', 'VEDGE-SD', 'HEDGE-MEAN', 'HEDGE-SD', 'INTENSITY-MEAN',\n",
            "       'RAWRED-MEAN', 'RAWBLUE-MEAN', 'RAWGREEN-MEAN', 'EXRED-MEAN',\n",
            "       'EXBLUE-MEAN', 'EXGREEN-MEAN', 'VALUE-MEAN', 'SATURATION-MEAN',\n",
            "       'HUE-MEAN'],\n",
            "      dtype='object')\n",
            "\n",
            "Tipos de dados das colunas do dataframe:\n",
            "NOME                     object\n",
            "REGION-CENTROID-COL      object\n",
            "REGION-CENTROID-ROW      object\n",
            "REGION-PIXEL-COUNT       object\n",
            "SHORT-LINE-DENSITY-5     object\n",
            "SHORT-LINE-DENSITY-2     object\n",
            "VEDGE-MEAN               object\n",
            "VEDGE-SD                 object\n",
            "HEDGE-MEAN               object\n",
            "HEDGE-SD                 object\n",
            "INTENSITY-MEAN           object\n",
            "RAWRED-MEAN              object\n",
            "RAWBLUE-MEAN             object\n",
            "RAWGREEN-MEAN            object\n",
            "EXRED-MEAN               object\n",
            "EXBLUE-MEAN              object\n",
            "EXGREEN-MEAN             object\n",
            "VALUE-MEAN               object\n",
            "SATURATION-MEAN          object\n",
            "HUE-MEAN                float64\n",
            "dtype: object\n",
            "\n",
            "Análise exploratória dos dados:\n",
            "         HUE-MEAN\n",
            "count  210.000000\n",
            "mean    -1.340397\n",
            "std      1.559405\n",
            "min     -2.530950\n",
            "25%     -2.187112\n",
            "50%     -2.044163\n",
            "75%     -1.429800\n",
            "max      2.864931\n"
          ]
        },
        {
          "output_type": "display_data",
          "data": {
            "text/plain": [
              "<Figure size 640x480 with 1 Axes>"
            ],
            "image/png": "[encoded data removed]"
          },
          "metadata": {}
        },
        {
          "output_type": "stream",
          "name": "stdout",
          "text": [
            "\n",
            "Conclusão:\n",
            "O conjunto de dados contém informações sobre segmentação de imagens.\n",
            "Após uma análise exploratória, identificamos que a coluna INTENSITY-MEAN possui dados faltantes.\n",
            "Para contornar esse problema, removemos as linhas com dados faltantes nessa coluna e apresentamos um histograma dos dados limpos.\n",
            "O histograma sugere que os valores de INTENSITY-MEAN estão distribuídos aproximadamente normalmente, com a maioria dos valores entre 80 e 130.\n"
          ]
        }
      ],
      "source": [
        "# 1- Importar os pacotes “pandas”, “matplotlib” e “seaborn”\n",
        "import pandas as pd\n",
        "import matplotlib.pyplot as plt\n",
        "import seaborn as sns\n",
        "\n",
        "# 2- Apresente um descrito do repositório de dados\n",
        "# 3- Importe os dados do repositório do item 2 em um Dataframe\n",
        "url = 'http://archive.ics.uci.edu/ml/machine-learning-databases/image/segmentation.data'\n",
        "df = pd.read_csv(url, sep=',', skiprows=3, header=None, names=['NOME','REGION-CENTROID-COL', 'REGION-CENTROID-ROW', 'REGION-PIXEL-COUNT', 'SHORT-LINE-DENSITY-5', 'SHORT-LINE-DENSITY-2', 'VEDGE-MEAN', 'VEDGE-SD', 'HEDGE-MEAN', 'HEDGE-SD', 'INTENSITY-MEAN', 'RAWRED-MEAN', 'RAWBLUE-MEAN', 'RAWGREEN-MEAN', 'EXRED-MEAN', 'EXBLUE-MEAN', 'EXGREEN-MEAN', 'VALUE-MEAN', 'SATURATION-MEAN', 'HUE-MEAN'])\n",
        "\n",
        "# 4- Apresente os 5 primeiros registros do Dataframe do item 3\n",
        "print('\\n5 primeiros registros:')\n",
        "print(df.head())\n",
        "\n",
        "# 5- Apresente as colunas do Dataframe do item 3\n",
        "print('\\nColunas do dataframe:')\n",
        "print(df.columns)\n",
        "\n",
        "# 6- Apresente os tipos de dados das colunas do Dataframe do item 3\n",
        "print('\\nTipos de dados das colunas do dataframe:')\n",
        "print(df.dtypes)\n",
        "\n",
        "# 7- Apresente uma análise exploratória dos dados do Dataframe do item 3 (dica: utilize a função “describe”).\n",
        "print('\\nAnálise exploratória dos dados:')\n",
        "print(df.describe())\n",
        "\n",
        "# 8- Selecione uma das características do Dataframe e exclua os dados NA.\n",
        "coluna = 'INTENSITY-MEAN'\n",
        "df_limpo = df.dropna(subset=[coluna])\n",
        "\n",
        "# 9- Apresente o histograma dos dados do item 8\n",
        "plt.hist(df_limpo[coluna], bins=20)\n",
        "plt.xlabel(coluna)\n",
        "plt.ylabel('Frequência')\n",
        "plt.title('Histograma de {}'.format(coluna))\n",
        "plt.show()\n",
        "\n",
        "# conclusão\n",
        "print('\\nConclusão:')\n",
        "print('O conjunto de dados contém informações sobre segmentação de imagens.')\n",
        "print('Após uma análise exploratória, identificamos que a coluna INTENSITY-MEAN possui dados faltantes.')\n",
        "print('Para contornar esse problema, removemos as linhas com dados faltantes nessa coluna e apresentamos um histograma dos dados limpos.')\n",
        "print('O histograma sugere que os valores de INTENSITY-MEAN estão distribuídos aproximadamente normalmente, com a maioria dos valores entre 80 e 130.')\n"
      ]
    },
    {
      "cell_type": "code",
      "source": [],
      "metadata": {
        "id": "JLgPkqahGlZf"
      },
      "execution_count": null,
      "outputs": []
    }
  ]
}